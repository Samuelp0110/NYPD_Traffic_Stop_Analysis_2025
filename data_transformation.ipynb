{
 "cells": [
  {
   "cell_type": "markdown",
   "id": "f91a7dec",
   "metadata": {},
   "source": [
    "# Data Importing and Cleaning\n",
    "## Data Used\n",
    "### Original Source\n",
    "Data used comes from the below link. It is all police incident data documenting vehicular stops until July 15, 2025\n",
    "https://data.cityofnewyork.us/Public-Safety/NYPD-Vehicle-Stop-Reports/hn9i-dwpr/about_data\n",
    "\n",
    "### Postgre\n",
    "Data is imported from a postgre server it was uploaded to, due to it being to large to interact with and check in excel. After Cleaning, it will be uploaded to a final table in Postgre for analysis"
   ]
  },
  {
   "cell_type": "code",
   "execution_count": 6,
   "id": "bace5f3b",
   "metadata": {},
   "outputs": [],
   "source": [
    "# imports\n",
    "from sqlalchemy import create_engine\n",
    "from dotenv import load_dotenv\n",
    "import pandas as pd\n",
    "import os"
   ]
  },
  {
   "cell_type": "code",
   "execution_count": 9,
   "id": "c4f2f1d3",
   "metadata": {},
   "outputs": [],
   "source": [
    "# Load environment variables\n",
    "load_dotenv()\n",
    "\n",
    "# Read them into variables\n",
    "DB_USER = os.getenv(\"db_username\")\n",
    "DB_PASS = os.getenv(\"db_password\")\n",
    "DB_HOST = os.getenv(\"db_host\")\n",
    "DB_PORT = os.getenv(\"db_port\")\n",
    "DB_NAME = os.getenv(\"db_name\")\n",
    "\n",
    "# Build the SQLAlchemy connection string\n",
    "connection_url = f\"postgresql://{DB_USER}:{DB_PASS}@{DB_HOST}:{DB_PORT}/{DB_NAME}\""
   ]
  },
  {
   "cell_type": "code",
   "execution_count": 10,
   "id": "84804a56",
   "metadata": {},
   "outputs": [
    {
     "name": "stdout",
     "output_type": "stream",
     "text": [
      "Connected to PostgreSQL\n"
     ]
    }
   ],
   "source": [
    "# Link Database\n",
    "engine = create_engine(connection_url)\n",
    "\n",
    "# Test Connection\n",
    "with engine.connect() as conn:\n",
    "    print(\"Connected to PostgreSQL\")"
   ]
  }
 ],
 "metadata": {
  "kernelspec": {
   "display_name": "aligner",
   "language": "python",
   "name": "python3"
  },
  "language_info": {
   "codemirror_mode": {
    "name": "ipython",
    "version": 3
   },
   "file_extension": ".py",
   "mimetype": "text/x-python",
   "name": "python",
   "nbconvert_exporter": "python",
   "pygments_lexer": "ipython3",
   "version": "3.13.7"
  }
 },
 "nbformat": 4,
 "nbformat_minor": 5
}
