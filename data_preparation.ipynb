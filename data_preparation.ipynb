{
 "cells": [
  {
   "cell_type": "code",
   "execution_count": 16,
   "id": "ad67f8f9",
   "metadata": {},
   "outputs": [],
   "source": [
    "# Imports\n",
    "import os\n",
    "import numpy as np\n",
    "import pandas as pd\n",
    "import matplotlib.pyplot as plt\n",
    "import seaborn as sns\n",
    "from dotenv import load_dotenv\n",
    "from sqlalchemy import create_engine, text\n",
    "from sklearn.model_selection import train_test_split\n",
    "from sklearn.preprocessing import StandardScaler, OneHotEncoder\n",
    "from sklearn.impute import SimpleImputer\n",
    "from sklearn.pipeline import Pipeline\n",
    "from sklearn.compose import ColumnTransformer\n",
    "import joblib  # For saving splits and preprocessor"
   ]
  },
  {
   "cell_type": "code",
   "execution_count": 17,
   "id": "a16c27dd",
   "metadata": {},
   "outputs": [],
   "source": [
    "# Load Environment Variables and Connect to DB\n",
    "load_dotenv()\n",
    "\n",
    "DB_USER = os.getenv(\"db_username\")\n",
    "DB_PASS = os.getenv(\"db_password\")\n",
    "DB_HOST = os.getenv(\"db_host\")\n",
    "DB_PORT = os.getenv(\"db_port\")\n",
    "DB_NAME = os.getenv(\"db_name\")\n",
    "\n",
    "connection_url = f\"postgresql://{DB_USER}:{DB_PASS}@{DB_HOST}:{DB_PORT}/{DB_NAME}\"\n",
    "engine = create_engine(connection_url)"
   ]
  },
  {
   "cell_type": "code",
   "execution_count": 18,
   "id": "7459f50a",
   "metadata": {},
   "outputs": [
    {
     "name": "stdout",
     "output_type": "stream",
     "text": [
      "Data shape: (2039862, 19)\n",
      "event_key                  object\n",
      "date_occurred              object\n",
      "time_occurred              object\n",
      "command_code                int64\n",
      "vehicle_seized               bool\n",
      "vehicle_searched             bool\n",
      "vehicle_search_consent     object\n",
      "vehicle_checkpoint           bool\n",
      "force_used                   bool\n",
      "arrest_made                  bool\n",
      "summons_issued               bool\n",
      "vehicle_category           object\n",
      "reported_age              float64\n",
      "sex_code                   object\n",
      "race_description           object\n",
      "latitude                  float64\n",
      "longitude                 float64\n",
      "x_coordinate              float64\n",
      "y_coordinate              float64\n",
      "dtype: object\n"
     ]
    }
   ],
   "source": [
    "# Load Data\n",
    "query = \"SELECT * FROM nypd_vehicle_stop_reports;\"\n",
    "df = pd.read_sql(query, engine)\n",
    "print(\"Data shape:\", df.shape)\n",
    "print(df.dtypes)"
   ]
  },
  {
   "cell_type": "code",
   "execution_count": 19,
   "id": "3d333efe",
   "metadata": {},
   "outputs": [],
   "source": [
    "# Initial Cleaning\n",
    "X = df.drop(columns=['event_key'])  # Drop unique ID\n"
   ]
  },
  {
   "cell_type": "code",
   "execution_count": 20,
   "id": "e0c8006e",
   "metadata": {},
   "outputs": [],
   "source": [
    "# Convert booleans to integers\n",
    "bool_cols = X.select_dtypes(include='bool').columns\n",
    "X[bool_cols] = X[bool_cols].astype(int)"
   ]
  },
  {
   "cell_type": "code",
   "execution_count": 21,
   "id": "b5e0ff0e",
   "metadata": {},
   "outputs": [],
   "source": [
    "# Handle Missing Values\n",
    "X['vehicle_search_consent'] = X['vehicle_search_consent'].fillna('No Search')\n",
    "age_imputer = SimpleImputer(strategy='median')\n",
    "X['reported_age'] = age_imputer.fit_transform(X[['reported_age']])"
   ]
  },
  {
   "cell_type": "code",
   "execution_count": 22,
   "id": "607074b8",
   "metadata": {},
   "outputs": [],
   "source": [
    "# Remove spatial columns (not used for now)\n",
    "X.drop(columns=['latitude', 'longitude', 'x_coordinate', 'y_coordinate'], inplace=True)"
   ]
  },
  {
   "cell_type": "code",
   "execution_count": 23,
   "id": "82fe1f51",
   "metadata": {},
   "outputs": [],
   "source": [
    "# Fill minimal random missing values\n",
    "X['vehicle_category'] = X['vehicle_category'].fillna('Unknown')\n",
    "X['sex_code'] = X['sex_code'].fillna('Unknown')\n",
    "X['race_description'] = X['race_description'].fillna('Unknown')"
   ]
  },
  {
   "cell_type": "code",
   "execution_count": 24,
   "id": "2e3f8020",
   "metadata": {},
   "outputs": [],
   "source": [
    "# Feature Engineering (Date/Time)\n",
    "X['date_occurred'] = pd.to_datetime(X['date_occurred'])\n",
    "X['time_occurred'] = pd.to_datetime(X['time_occurred'], format='%H:%M:%S').dt.time\n",
    "\n",
    "X['day_of_week'] = X['date_occurred'].dt.dayofweek\n",
    "X['month'] = X['date_occurred'].dt.month\n",
    "X['is_weekend'] = X['day_of_week'].isin([5, 6]).astype(int)\n",
    "\n",
    "X['hour'] = pd.to_datetime(X['time_occurred'], format='%H:%M:%S').dt.hour\n",
    "X['is_night'] = X['hour'].isin([0,1,2,3,4,5,22,23]).astype(int)\n",
    "\n",
    "X.drop(columns=['date_occurred', 'time_occurred'], inplace=True)"
   ]
  },
  {
   "cell_type": "code",
   "execution_count": 25,
   "id": "87f79eee",
   "metadata": {},
   "outputs": [],
   "source": [
    "# Final Feature Selection for Modeling\n",
    "features = [\n",
    "    'day_of_week', 'month', 'hour', 'is_weekend', 'is_night',\n",
    "    'vehicle_checkpoint',\n",
    "    'vehicle_category',\n",
    "    'reported_age',\n",
    "    'sex_code',\n",
    "    'race_description',\n",
    "    'command_code'\n",
    "]\n",
    "X_filtered = X[features]\n",
    "y = X['arrest_made']\n"
   ]
  },
  {
   "cell_type": "code",
   "execution_count": 26,
   "id": "07e2e214",
   "metadata": {},
   "outputs": [],
   "source": [
    "# Define Preprocessor\n",
    "categorical_features = [\n",
    "    'command_code',\n",
    "    'vehicle_category',\n",
    "    'sex_code',\n",
    "    'race_description'\n",
    "]\n",
    "\n",
    "numeric_features = ['reported_age', 'day_of_week', 'month', 'hour']\n",
    "\n",
    "numeric_transformer = Pipeline(steps=[\n",
    "    ('imputer', SimpleImputer(strategy='median')),\n",
    "    ('scaler', StandardScaler())\n",
    "])\n",
    "\n",
    "categorical_transformer = Pipeline(steps=[\n",
    "    ('onehot', OneHotEncoder(handle_unknown='ignore'))\n",
    "])\n",
    "\n",
    "preprocessor = ColumnTransformer(transformers=[\n",
    "    ('num', numeric_transformer, numeric_features),\n",
    "    ('cat', categorical_transformer, categorical_features),\n",
    "    ('passthrough', 'passthrough', ['vehicle_checkpoint', 'is_weekend', 'is_night'])\n",
    "])\n"
   ]
  },
  {
   "cell_type": "code",
   "execution_count": 27,
   "id": "c5cfe37b",
   "metadata": {},
   "outputs": [],
   "source": [
    "# Train/Test Split\n",
    "X_train, X_test, y_train, y_test = train_test_split(\n",
    "    X_filtered, y, test_size=0.2, random_state=42, stratify=y\n",
    ")"
   ]
  },
  {
   "cell_type": "code",
   "execution_count": 28,
   "id": "3d5dd64f",
   "metadata": {},
   "outputs": [
    {
     "name": "stdout",
     "output_type": "stream",
     "text": [
      "✅ Data preparation complete. Files saved.\n"
     ]
    }
   ],
   "source": [
    "# Save Processed Data and Preprocessor\n",
    "joblib.dump(X_train, 'X_train.pkl')\n",
    "joblib.dump(X_test, 'X_test.pkl')\n",
    "joblib.dump(y_train, 'y_train.pkl')\n",
    "joblib.dump(y_test, 'y_test.pkl')\n",
    "joblib.dump(preprocessor, 'preprocessor.pkl')\n",
    "\n",
    "print(\"✅ Data preparation complete. Files saved.\")"
   ]
  }
 ],
 "metadata": {
  "kernelspec": {
   "display_name": "aligner",
   "language": "python",
   "name": "python3"
  },
  "language_info": {
   "codemirror_mode": {
    "name": "ipython",
    "version": 3
   },
   "file_extension": ".py",
   "mimetype": "text/x-python",
   "name": "python",
   "nbconvert_exporter": "python",
   "pygments_lexer": "ipython3",
   "version": "3.13.7"
  }
 },
 "nbformat": 4,
 "nbformat_minor": 5
}
